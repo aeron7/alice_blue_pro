{
  "nbformat": 4,
  "nbformat_minor": 0,
  "metadata": {
    "colab": {
      "provenance": [],
      "collapsed_sections": [],
      "authorship_tag": "ABX9TyPTvWoMyJ9Kni9lMVsEHlO/",
      "include_colab_link": true
    },
    "kernelspec": {
      "name": "python3",
      "display_name": "Python 3"
    },
    "language_info": {
      "name": "python"
    }
  },
  "cells": [
    {
      "cell_type": "markdown",
      "metadata": {
        "id": "view-in-github",
        "colab_type": "text"
      },
      "source": [
        "<a href=\"https://colab.research.google.com/github/aeron7/aliceblue_api_sample_codes/blob/main/AliceBlue_Sample_Program_1_Connecting_to_Websocket_and_Getting_Live_LTP_By_Unofficed.ipynb\" target=\"_parent\"><img src=\"https://colab.research.google.com/assets/colab-badge.svg\" alt=\"Open In Colab\"/></a>"
      ]
    },
    {
      "cell_type": "code",
      "source": [
        "#Google Collab Link - https://colab.research.google.com/drive/1vJmIXGTPe8Ckkx_psmO2Z5h4FXbp1Z4H?usp=sharing\n",
        "#Install The Python Wrapper\n",
        "\n",
        "!pip install alice_blue"
      ],
      "metadata": {
        "colab": {
          "base_uri": "https://localhost:8080/"
        },
        "id": "6gp9TGA6n9fn",
        "outputId": "9ca59e71-ce91-4458-de96-1a2c5e9fb516"
      },
      "execution_count": null,
      "outputs": [
        {
          "output_type": "stream",
          "name": "stdout",
          "text": [
            "Looking in indexes: https://pypi.org/simple, https://us-python.pkg.dev/colab-wheels/public/simple/\n",
            "Collecting alice_blue\n",
            "  Downloading alice_blue-2.0.2-py2.py3-none-any.whl (34 kB)\n",
            "Collecting cryptography\n",
            "  Downloading cryptography-38.0.1-cp36-abi3-manylinux_2_24_x86_64.whl (4.0 MB)\n",
            "\u001b[K     |████████████████████████████████| 4.0 MB 12.3 MB/s \n",
            "\u001b[?25hRequirement already satisfied: requests in /usr/local/lib/python3.7/dist-packages (from alice_blue) (2.23.0)\n",
            "Requirement already satisfied: pytz in /usr/local/lib/python3.7/dist-packages (from alice_blue) (2022.2.1)\n",
            "Collecting websocket-client\n",
            "  Downloading websocket_client-1.4.1-py3-none-any.whl (55 kB)\n",
            "\u001b[K     |████████████████████████████████| 55 kB 3.4 MB/s \n",
            "\u001b[?25hRequirement already satisfied: cffi>=1.12 in /usr/local/lib/python3.7/dist-packages (from cryptography->alice_blue) (1.15.1)\n",
            "Requirement already satisfied: pycparser in /usr/local/lib/python3.7/dist-packages (from cffi>=1.12->cryptography->alice_blue) (2.21)\n",
            "Requirement already satisfied: certifi>=2017.4.17 in /usr/local/lib/python3.7/dist-packages (from requests->alice_blue) (2022.6.15)\n",
            "Requirement already satisfied: idna<3,>=2.5 in /usr/local/lib/python3.7/dist-packages (from requests->alice_blue) (2.10)\n",
            "Requirement already satisfied: urllib3!=1.25.0,!=1.25.1,<1.26,>=1.21.1 in /usr/local/lib/python3.7/dist-packages (from requests->alice_blue) (1.24.3)\n",
            "Requirement already satisfied: chardet<4,>=3.0.2 in /usr/local/lib/python3.7/dist-packages (from requests->alice_blue) (3.0.4)\n",
            "Installing collected packages: websocket-client, cryptography, alice-blue\n",
            "Successfully installed alice-blue-2.0.2 cryptography-38.0.1 websocket-client-1.4.1\n"
          ]
        }
      ]
    },
    {
      "cell_type": "code",
      "execution_count": null,
      "metadata": {
        "id": "Itq5PUNEn1xC"
      },
      "outputs": [],
      "source": [
        "#Importing AliceBlue Library\n",
        "from alice_blue import *\n",
        "\n",
        "#Only Replace it with your credentails\n",
        "#Follow https://unofficed.com/how-to-activate-the-api-in-alice-blue-for-automated-trading/ for generating api_ID and api_Secret \n",
        "\n",
        "#Only Replace it with your credentails\n",
        "username    = \"enter_your_user_name\" \n",
        "password    = \"enter_your_password\" \n",
        "twoFA       = \"enter_byear\"\n",
        "app_id      = \"enter_app_id\"\n",
        "api_secret  = \"enter_api_secret\"\n"
      ]
    },
    {
      "cell_type": "code",
      "source": [
        "#Generating Session ID\n",
        "session_id = AliceBlue.login_and_get_sessionID(username=username,password=password,twoFA=twoFA,app_id=app_id,api_secret=api_secret)\n",
        "\n",
        "#Generate an Alice object using the session_id\n",
        "alice = AliceBlue(username = username, session_id = session_id, master_contracts_to_download=['NSE', 'BSE','NFO','MCX'])"
      ],
      "metadata": {
        "id": "DwdPoRv1teVP"
      },
      "execution_count": null,
      "outputs": []
    },
    {
      "cell_type": "code",
      "source": [
        "print(alice.get_balance()) # get balance / margin limits"
      ],
      "metadata": {
        "id": "C1nwKWCj_nhd",
        "colab": {
          "base_uri": "https://localhost:8080/"
        },
        "outputId": "10076c17-36d8-4130-a100-433c7b85660a"
      },
      "execution_count": null,
      "outputs": [
        {
          "output_type": "stream",
          "name": "stdout",
          "text": [
            "[{'symbol': 'ALL', 'cncMarginUsed': '0', 'spanmargin': '5171.25', 'branchAdhoc': '0.000000', 'adhocMargin': '0.000000', 'payoutamount': '0.00', 'cdsSpreadBenefit': '0', 'adhocscripmargin': '0.00', 'exposuremargin': '41044.98', 'scripbasketmargin': '0.00', 'credits': '95345.85', 'segment': 'ALL', 'net': '49659.64', 'turnover': '0.00', 'grossexposurevalue': '0.00', 'mfssAmountUsed': '0.00', 'realizedMtomPrsnt': '2472.50', 'product': 'ALL', 'stat': 'Ok', 'cncSellCrditPrsnt': '0', 'debits': '45686.21', 'varmargin': '0.00', 'multiplier': '10.00', 'elm': '0.00', 'mfamount': '0.00', 'cashmarginavailable': '95345.85', 'brokeragePrsnt': '937.284000', 'cncRealizedMtomPrsnt': '0', 'notionalCash': '0.000000', 'directcollateralvalue': '0.00', 'cncBrokeragePrsnt': '0', 'valueindelivery': '0', 'nfoSpreadBenefit': '0', 'losslimit': '0', 'subtotal': '45686.21', 'rmsPayInAmnt': '0', 'unrealizedMtomPrsnt': '-0.00', 'coverOrderMarginPrsnt': '0', 'exchange': 'ALL', 'category': 'ABFS-FREEDOM', 'collateralvalue': '0.00', 'rmsIpoAmnt': '0', 'cncUnrealizedMtomPrsnt': '0', 'premiumPrsnt': '-1467.300000'}, {'symbol': 'ALL', 'cncMarginUsed': '0', 'spanmargin': '0.00', 'branchAdhoc': '0.000000', 'adhocMargin': '0.000000', 'payoutamount': '0.00', 'cdsSpreadBenefit': '0', 'adhocscripmargin': '0.00', 'exposuremargin': '0.00', 'scripbasketmargin': '0.00', 'credits': '0.00', 'segment': 'COM', 'net': '0.00', 'turnover': '0.00', 'grossexposurevalue': '0.00', 'mfssAmountUsed': '0.00', 'realizedMtomPrsnt': '-0.00', 'product': 'ALL', 'stat': 'Ok', 'cncSellCrditPrsnt': '0', 'debits': '0.00', 'varmargin': '0.00', 'multiplier': '1.00', 'elm': '0.00', 'mfamount': '0.00', 'cashmarginavailable': '0.00', 'brokeragePrsnt': '0', 'cncRealizedMtomPrsnt': '0', 'notionalCash': '0.000000', 'directcollateralvalue': '0.00', 'cncBrokeragePrsnt': '0', 'valueindelivery': '0', 'nfoSpreadBenefit': '0', 'losslimit': '0', 'subtotal': '0.00', 'rmsPayInAmnt': '0', 'unrealizedMtomPrsnt': '-0.00', 'coverOrderMarginPrsnt': '0', 'exchange': 'ALL', 'category': 'NO_VAL', 'collateralvalue': '0.00', 'rmsIpoAmnt': '0', 'cncUnrealizedMtomPrsnt': '0', 'premiumPrsnt': '0'}]\n"
          ]
        }
      ]
    },
    {
      "cell_type": "code",
      "source": [
        "print(alice.get_scrip_info(alice.get_instrument_by_symbol(\"NSE\", \"INFY-EQ\")))"
      ],
      "metadata": {
        "id": "9-J23qboAZRi",
        "colab": {
          "base_uri": "https://localhost:8080/"
        },
        "outputId": "d9224ded-81b4-469d-e4be-6a84250237bf"
      },
      "execution_count": null,
      "outputs": [
        {
          "output_type": "stream",
          "name": "stdout",
          "text": [
            "{'optiontype': 'XX', 'SQty': 0, 'vwapAveragePrice': '1371.40', 'LTQ': '39', 'DecimalPrecision': 2, 'openPrice': '1366.35', 'LTP': '1367.95', 'Ltp': '1367.95', 'BRate': '1367.95', 'defmktproval': '3', 'symbolname': 'INFY', 'noMktPro': '0', 'BQty': 1158, 'mktpro': '1', 'LTT': '22/09/2022 15:48:58', 'TickSize': '5', 'Multiplier': 1, 'strikeprice': '00.00', 'TotalSell': 'NA', 'High': '1383.95', 'stat': 'Ok', 'yearlyLowPrice': '1360.00', 'yearlyHighPrice': '1953.90', 'exchFeedTime': '22-Sep-2022 15:50:26', 'BodLotQty': 1, 'PrvClose': '1367.95', 'Change': '00.00', 'SRate': '00.00', 'Series': 'EQ', 'TotalBuy': '1158', 'Low': '1360.00', 'UniqueKey': 'INFY', 'PerChange': '00.00', 'companyname': 'INFOSYS LIMITED', 'TradeVolume': '9168379', 'TSymbl': 'INFY-EQ', 'Exp': 'NA', 'LTD': 'NA'}\n"
          ]
        }
      ]
    },
    {
      "cell_type": "code",
      "source": [
        "print(alice.get_scrip_info(alice.get_instrument_by_symbol(\"NFO\", \"BANKNIFTY22SEPFUT\")))"
      ],
      "metadata": {
        "id": "Wu1rAUDdAZvw",
        "colab": {
          "base_uri": "https://localhost:8080/"
        },
        "outputId": "69ad54e0-dfd6-4670-807d-a7310255eb29"
      },
      "execution_count": null,
      "outputs": [
        {
          "output_type": "stream",
          "name": "stdout",
          "text": [
            "{'optiontype': 'XX', 'SQty': 25, 'vwapAveragePrice': '40800.48', 'LTQ': '25', 'Ltp': '40721.00', 'LTP': '40721.00', 'DecimalPrecision': 2, 'openPrice': '40978.00', 'BRate': '40714.00', 'defmktproval': '3', 'BQty': 50, 'symbolname': 'BANKNIFTY', 'noMktPro': '0', 'LTT': '22/09/2022 15:29:59', 'mktpro': '1', 'TickSize': '5', 'Multiplier': 1, 'strikeprice': '00.00', 'TotalSell': '85800', 'High': '41218.00', 'stat': 'Ok', 'BodLotQty': 25, 'yearlyHighPrice': '41218.00', 'yearlyLowPrice': '00.00', 'exchFeedTime': '22-Sep-2022 15:32:03', 'PrvClose': '41244.95', 'SRate': '40721.90', 'Change': '-523.95', 'Series': 'XX', 'TotalBuy': '72650', 'Low': '40413.00', 'UniqueKey': 'NA', 'PerChange': '-01.27', 'companyname': '', 'TradeVolume': '5396275', 'TSymbl': 'BANKNIFTY22SEPFUT', 'Exp': '29 Sep, 2022', 'LTD': 'NA'}\n"
          ]
        }
      ]
    },
    {
      "cell_type": "code",
      "source": [
        "#Getting Instrument of Crude Oil\n",
        "crude_oil_symbol = alice.get_instrument_by_symbol('MCX', 'CRUDEOIL22OCTFUT')\n",
        "crude_oil_symbol"
      ],
      "metadata": {
        "colab": {
          "base_uri": "https://localhost:8080/"
        },
        "id": "D8Y8r0tMqQud",
        "outputId": "b4e0262b-e5f6-4e47-b49c-8ea15384dd70"
      },
      "execution_count": null,
      "outputs": [
        {
          "output_type": "execute_result",
          "data": {
            "text/plain": [
              "Instrument(exchange='MCX', token=240524, symbol='CRUDEOIL22OCTFUT', name='CRUDEOIL 19OCT22 FUT', expiry=datetime.date(2022, 10, 19), lot_size='100')"
            ]
          },
          "metadata": {},
          "execution_count": 7
        }
      ]
    },
    {
      "cell_type": "code",
      "source": [
        "#Starting the Websocket and Subscribing to a Scrip\n",
        "tick = 0\n",
        "def event_handler_quote_update(message):\n",
        "    global tick\n",
        "    tick=message\n",
        "\n",
        "alice.start_websocket(subscribe_callback=event_handler_quote_update)\n",
        "\n",
        "#This subscribe function takes the first variable type as Instrument. We had this from last block. Second variable is selection between Tick Data or Depth Data.\n",
        "alice.subscribe(crude_oil_symbol, LiveFeedType.TICK_DATA)\n",
        "\n",
        "alice.get_all_subscriptions()"
      ],
      "metadata": {
        "colab": {
          "base_uri": "https://localhost:8080/"
        },
        "id": "ow_7HE2WIlIp",
        "outputId": "18e8ad33-2c42-4a4e-ab46-820bb4532b7d"
      },
      "execution_count": null,
      "outputs": [
        {
          "output_type": "stream",
          "name": "stderr",
          "text": [
            "WARNING:websocket:websocket connected\n"
          ]
        },
        {
          "output_type": "execute_result",
          "data": {
            "text/plain": [
              "{Instrument(exchange='MCX', token=240524, symbol='CRUDEOIL22OCTFUT', name='CRUDEOIL 19OCT22 FUT', expiry=datetime.date(2022, 10, 19), lot_size='100'): <LiveFeedType.TICK_DATA: 1>}"
            ]
          },
          "metadata": {},
          "execution_count": 11
        }
      ]
    },
    {
      "cell_type": "code",
      "source": [
        "#Websocket is connected. Now Lets get the LTP\n",
        "from time import sleep\n",
        "while True:\n",
        "  try:  \n",
        "    print(tick['instrument'][2]+\" : \"+str(tick['ltp']))\n",
        "  except TypeError: #Tick data comes when there is no trade. We are checking for tick data each 5 seconds. If there is no trade in between those 5 seconds, it will reply 0. That will raise an error. We are ignoring it.\n",
        "    pass\n",
        "  sleep(5)"
      ],
      "metadata": {
        "id": "yTtXsfpauKYB",
        "outputId": "7c7d0184-5f7d-4a63-f1ce-450b314d0a75",
        "colab": {
          "base_uri": "https://localhost:8080/"
        }
      },
      "execution_count": null,
      "outputs": [
        {
          "output_type": "stream",
          "name": "stdout",
          "text": [
            "CRUDEOIL22OCTFUT : 6771.0\n",
            "CRUDEOIL22OCTFUT : 6771.0\n",
            "CRUDEOIL22OCTFUT : 6772.0\n",
            "CRUDEOIL22OCTFUT : 6773.0\n",
            "CRUDEOIL22OCTFUT : 6773.0\n",
            "CRUDEOIL22OCTFUT : 6773.0\n",
            "CRUDEOIL22OCTFUT : 6773.0\n",
            "CRUDEOIL22OCTFUT : 6773.0\n",
            "CRUDEOIL22OCTFUT : 6772.0\n",
            "CRUDEOIL22OCTFUT : 6771.0\n",
            "CRUDEOIL22OCTFUT : 6771.0\n"
          ]
        }
      ]
    }
  ]
}
